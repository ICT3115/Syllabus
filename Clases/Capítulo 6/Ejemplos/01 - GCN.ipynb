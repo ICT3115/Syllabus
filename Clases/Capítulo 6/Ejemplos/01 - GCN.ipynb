{
  "nbformat": 4,
  "nbformat_minor": 0,
  "metadata": {
    "kernelspec": {
      "display_name": "Python 3",
      "language": "python",
      "name": "python3"
    },
    "language_info": {
      "codemirror_mode": {
        "name": "ipython",
        "version": 3
      },
      "file_extension": ".py",
      "mimetype": "text/x-python",
      "name": "python",
      "nbconvert_exporter": "python",
      "pygments_lexer": "ipython3",
      "version": "3.6.9"
    },
    "colab": {
      "name": "01 - GCN.ipynb",
      "provenance": []
    }
  },
  "cells": [
    {
      "cell_type": "markdown",
      "metadata": {
        "id": "yoKxCW4IMtZ-"
      },
      "source": [
        "<h1>Construcción de Graph Convolutional Networks (GCN)</h1>\n",
        "<h3>Basado en el <a href=\"https://arxiv.org/pdf/1609.02907.pdf\">paper</a> de T. Kipf and M. Welling (2017)</h3>\n",
        "<h4>Implementado usado NetworkX y Numpy</h4>\n",
        "\n",
        "\n",
        "**************************************************************************************************************"
      ]
    },
    {
      "cell_type": "markdown",
      "metadata": {
        "id": "jeTVSsb2MtZ_"
      },
      "source": [
        "<h2>Initializing the Graph G</h2>"
      ]
    },
    {
      "cell_type": "code",
      "metadata": {
        "colab": {
          "base_uri": "https://localhost:8080/",
          "height": 455
        },
        "id": "IPqlhFvPMtZ_",
        "outputId": "a451c786-23f4-4205-a58c-6b183619b440"
      },
      "source": [
        "import networkx as nx\n",
        "import numpy as np\n",
        "import matplotlib.pyplot as plt\n",
        "from scipy.linalg import fractional_matrix_power\n",
        "\n",
        "import warnings\n",
        "warnings.filterwarnings(\"ignore\", category=UserWarning)\n",
        "\n",
        "\n",
        "#Initialize the graph\n",
        "G = nx.Graph(name='G')\n",
        "\n",
        "#Create nodes\n",
        "#In this example, the graph will consist of 6 nodes.\n",
        "#Each node is assigned node feature which corresponds to the node name\n",
        "for i in range(6):\n",
        "    G.add_node(i, name=i)\n",
        "\n",
        "\n",
        "#Define the edges and the edges to the graph\n",
        "edges = [(0,1),(0,2),(1,2),(0,3),(3,4),(3,5),(4,5)]\n",
        "G.add_edges_from(edges)\n",
        "\n",
        "#See graph info\n",
        "print('Graph Info:\\n', nx.info(G))\n",
        "\n",
        "#Inspect the node features\n",
        "print('\\nGraph Nodes: ', G.nodes.data())\n",
        "\n",
        "#Plot the graph\n",
        "nx.draw(G, with_labels=True, font_weight='bold')\n",
        "plt.show()"
      ],
      "execution_count": 1,
      "outputs": [
        {
          "output_type": "stream",
          "text": [
            "Graph Info:\n",
            " Name: G\n",
            "Type: Graph\n",
            "Number of nodes: 6\n",
            "Number of edges: 7\n",
            "Average degree:   2.3333\n",
            "\n",
            "Graph Nodes:  [(0, {'name': 0}), (1, {'name': 1}), (2, {'name': 2}), (3, {'name': 3}), (4, {'name': 4}), (5, {'name': 5})]\n"
          ],
          "name": "stdout"
        },
        {
          "output_type": "display_data",
          "data": {
            "image/png": "[encoded data removed]",
            "text/plain": [
              "<Figure size 432x288 with 1 Axes>"
            ]
          },
          "metadata": {
            "tags": []
          }
        }
      ]
    },
    {
      "cell_type": "markdown",
      "metadata": {
        "id": "Zi5CSJMtMtaB"
      },
      "source": [
        "<br>\n",
        "<h2>Inserting Adjacency Matrix (A) to Forward Pass Equation</h2>"
      ]
    },
    {
      "cell_type": "code",
      "metadata": {
        "colab": {
          "base_uri": "https://localhost:8080/"
        },
        "id": "jMO492aGMtaB",
        "outputId": "4aa2ba5f-07f1-46a0-91c9-d9fc3f46cd44"
      },
      "source": [
        "#Get the Adjacency Matrix (A) and Node Features Matrix (X) as numpy array\n",
        "A = np.array(nx.attr_matrix(G, node_attr='name')[0])\n",
        "X = np.array(nx.attr_matrix(G, node_attr='name')[1])\n",
        "X = np.expand_dims(X,axis=1)\n",
        "\n",
        "print('Shape of A: ', A.shape)\n",
        "print('\\nShape of X: ', X.shape)\n",
        "print('\\nAdjacency Matrix (A):\\n', A)\n",
        "print('\\nNode Features Matrix (X):\\n', X)"
      ],
      "execution_count": 2,
      "outputs": [
        {
          "output_type": "stream",
          "text": [
            "Shape of A:  (6, 6)\n",
            "\n",
            "Shape of X:  (6, 1)\n",
            "\n",
            "Adjacency Matrix (A):\n",
            " [[0. 1. 1. 1. 0. 0.]\n",
            " [1. 0. 1. 0. 0. 0.]\n",
            " [1. 1. 0. 0. 0. 0.]\n",
            " [1. 0. 0. 0. 1. 1.]\n",
            " [0. 0. 0. 1. 0. 1.]\n",
            " [0. 0. 0. 1. 1. 0.]]\n",
            "\n",
            "Node Features Matrix (X):\n",
            " [[0]\n",
            " [1]\n",
            " [2]\n",
            " [3]\n",
            " [4]\n",
            " [5]]\n"
          ],
          "name": "stdout"
        }
      ]
    },
    {
      "cell_type": "code",
      "metadata": {
        "colab": {
          "base_uri": "https://localhost:8080/"
        },
        "id": "ezpnZytoMtaC",
        "outputId": "a40a2062-7cd1-404f-8eae-3f445287930a"
      },
      "source": [
        "#Dot product Adjacency Matrix (A) and Node Features (X)\n",
        "AX = np.dot(A,X)\n",
        "print(\"Dot product of A and X (AX):\\n\", AX)"
      ],
      "execution_count": 3,
      "outputs": [
        {
          "output_type": "stream",
          "text": [
            "Dot product of A and X (AX):\n",
            " [[6.]\n",
            " [2.]\n",
            " [1.]\n",
            " [9.]\n",
            " [8.]\n",
            " [7.]]\n"
          ],
          "name": "stdout"
        }
      ]
    },
    {
      "cell_type": "markdown",
      "metadata": {
        "id": "CsbyvXOBMtaC"
      },
      "source": [
        "<br>\n",
        "<h2>Adding Self-Loops and Normalizing A</h2>"
      ]
    },
    {
      "cell_type": "code",
      "metadata": {
        "colab": {
          "base_uri": "https://localhost:8080/"
        },
        "id": "8uDtzeO6MtaC",
        "outputId": "01c90440-8372-425d-8276-3c1c97f00338"
      },
      "source": [
        "#Add Self Loops\n",
        "G_self_loops = G.copy()\n",
        "\n",
        "self_loops = [(i,i) for i in range(G.number_of_nodes())]\n",
        "G_self_loops.add_edges_from(self_loops)\n",
        "\n",
        "#Check the edges of G_self_loops after adding the self loops\n",
        "print('Edges of G with self-loops:\\n', G_self_loops.edges)\n",
        "\n",
        "#Get the Adjacency Matrix (A) and Node Features Matrix (X) of added self-lopps graph\n",
        "A_hat = np.array(nx.attr_matrix(G_self_loops, node_attr='name')[0])\n",
        "print('Adjacency Matrix of added self-loops G (A_hat):\\n', A_hat)\n",
        "\n",
        "#Calculate the dot product of A_hat and X (AX)\n",
        "AX = np.dot(A_hat, X)\n",
        "print('AX:\\n', AX)"
      ],
      "execution_count": 6,
      "outputs": [
        {
          "output_type": "stream",
          "text": [
            "Edges of G with self-loops:\n",
            " [(0, 1), (0, 2), (0, 3), (0, 0), (1, 2), (1, 1), (2, 2), (3, 4), (3, 5), (3, 3), (4, 5), (4, 4), (5, 5)]\n",
            "Adjacency Matrix of added self-loops G (A_hat):\n",
            " [[1. 1. 1. 1. 0. 0.]\n",
            " [1. 1. 1. 0. 0. 0.]\n",
            " [1. 1. 1. 0. 0. 0.]\n",
            " [1. 0. 0. 1. 1. 1.]\n",
            " [0. 0. 0. 1. 1. 1.]\n",
            " [0. 0. 0. 1. 1. 1.]]\n",
            "AX:\n",
            " [[ 6.]\n",
            " [ 3.]\n",
            " [ 3.]\n",
            " [12.]\n",
            " [12.]\n",
            " [12.]]\n"
          ],
          "name": "stdout"
        }
      ]
    },
    {
      "cell_type": "code",
      "metadata": {
        "colab": {
          "base_uri": "https://localhost:8080/"
        },
        "id": "N9qwSsDRMtaC",
        "outputId": "c7e51a05-81ac-4c4b-8cc9-9dc551b6c5c6"
      },
      "source": [
        "#Get the Degree Matrix of the added self-loops graph\n",
        "Deg_Mat = G_self_loops.degree()\n",
        "print('Degree Matrix of added self-loops G (D): ', Deg_Mat)\n",
        "\n",
        "#Convert the Degree Matrix to a N x N matrix where N is the number of nodes\n",
        "D = np.diag([deg for (n,deg) in list(Deg_Mat)])\n",
        "print('Degree Matrix of added self-loops G as numpy array (D):\\n', D)\n",
        "\n",
        "#Find the inverse of Degree Matrix (D)\n",
        "D_inv = np.linalg.inv(D)\n",
        "print('Inverse of D:\\n', D_inv)\n",
        "\n",
        "#Dot product of D and AX for normalization\n",
        "DAX = np.dot(D_inv,AX)\n",
        "print('DAX:\\n', DAX)"
      ],
      "execution_count": 7,
      "outputs": [
        {
          "output_type": "stream",
          "text": [
            "Degree Matrix of added self-loops G (D):  [(0, 5), (1, 4), (2, 4), (3, 5), (4, 4), (5, 4)]\n",
            "Degree Matrix of added self-loops G as numpy array (D):\n",
            " [[5 0 0 0 0 0]\n",
            " [0 4 0 0 0 0]\n",
            " [0 0 4 0 0 0]\n",
            " [0 0 0 5 0 0]\n",
            " [0 0 0 0 4 0]\n",
            " [0 0 0 0 0 4]]\n",
            "Inverse of D:\n",
            " [[0.2  0.   0.   0.   0.   0.  ]\n",
            " [0.   0.25 0.   0.   0.   0.  ]\n",
            " [0.   0.   0.25 0.   0.   0.  ]\n",
            " [0.   0.   0.   0.2  0.   0.  ]\n",
            " [0.   0.   0.   0.   0.25 0.  ]\n",
            " [0.   0.   0.   0.   0.   0.25]]\n",
            "DAX:\n",
            " [[1.2 ]\n",
            " [0.75]\n",
            " [0.75]\n",
            " [2.4 ]\n",
            " [3.  ]\n",
            " [3.  ]]\n"
          ],
          "name": "stdout"
        }
      ]
    },
    {
      "cell_type": "code",
      "metadata": {
        "id": "J4KqrvEiMtaD",
        "outputId": "6045029e-1032-4817-f590-1eb34a6261ed"
      },
      "source": [
        "#Symmetrically-normalization\n",
        "D_half_norm = fractional_matrix_power(D, -0.5)\n",
        "DADX = D_half_norm.dot(A_hat).dot(D_half_norm).dot(X)\n",
        "print('DADX:\\n', DADX)"
      ],
      "execution_count": null,
      "outputs": [
        {
          "output_type": "stream",
          "text": [
            "DADX:\n",
            " [[1.27082039]\n",
            " [0.75      ]\n",
            " [0.75      ]\n",
            " [2.61246118]\n",
            " [2.92082039]\n",
            " [2.92082039]]\n"
          ],
          "name": "stdout"
        }
      ]
    },
    {
      "cell_type": "markdown",
      "metadata": {
        "id": "tnSvagE0RzjB"
      },
      "source": [
        "![symmetric_normalization.png](data:image/png;base64,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)"
      ]
    },
    {
      "cell_type": "markdown",
      "metadata": {
        "id": "hx2gQI-VMtaD"
      },
      "source": [
        "<br>\n",
        "<h2>Adding Weights and Activation Function</h2>"
      ]
    },
    {
      "cell_type": "code",
      "metadata": {
        "id": "XjT5wBqlMtaD",
        "outputId": "9716aaca-b546-4c49-c2c2-f0eaf6604efb"
      },
      "source": [
        "#Initialize the weights\n",
        "np.random.seed(77777)\n",
        "n_h = 4 #number of neurons in the hidden layer\n",
        "n_y = 2 #number of neurons in the output layer\n",
        "W0 = np.random.randn(X.shape[1],n_h) * 0.01\n",
        "W1 = np.random.randn(n_h,n_y) * 0.01\n",
        "\n",
        "#Implement ReLu as activation function\n",
        "def relu(x):\n",
        "    return np.maximum(0,x)\n",
        "\n",
        "#Build GCN layer\n",
        "#In this function, we implement with numpy to simplify\n",
        "def gcn(A,H,W):\n",
        "    I = np.identity(A.shape[0]) #create Identity Matrix of A\n",
        "    A_hat = A + I #add self-loop to A\n",
        "    D = np.diag(np.sum(A_hat, axis=0)) #create Degree Matrix of A\n",
        "    D_half_norm = fractional_matrix_power(D, -0.5) #calculate D to the power of -0.5\n",
        "    eq = D_half_norm.dot(A_hat).dot(D_half_norm).dot(H).dot(W)\n",
        "    return relu(eq)\n",
        "\n",
        "\n",
        "#Do forward propagation\n",
        "H1 = gcn(A,X,W0)\n",
        "H2 = gcn(A,H1,W1)\n",
        "print('Features Representation from GCN output:\\n', H2)"
      ],
      "execution_count": null,
      "outputs": [
        {
          "output_type": "stream",
          "text": [
            "Features Representation from GCN output:\n",
            " [[0.00027758 0.        ]\n",
            " [0.00017298 0.        ]\n",
            " [0.00017298 0.        ]\n",
            " [0.00053017 0.        ]\n",
            " [0.00054097 0.        ]\n",
            " [0.00054097 0.        ]]\n"
          ],
          "name": "stdout"
        }
      ]
    },
    {
      "cell_type": "markdown",
      "metadata": {
        "id": "SezrHJ_uMtaD"
      },
      "source": [
        "<br>\n",
        "<h2>Plotting the Features Representations</h2>"
      ]
    },
    {
      "cell_type": "code",
      "metadata": {
        "id": "sCScvlCGMtaD",
        "outputId": "256b2089-b913-4ac8-8a4e-b4af8dc04dce"
      },
      "source": [
        "def plot_features(H2):\n",
        "    #Plot the features representation\n",
        "    x = H2[:,0]\n",
        "    y = H2[:,1]\n",
        "\n",
        "    size = 1000\n",
        "\n",
        "    plt.scatter(x,y,size)\n",
        "    plt.xlim([np.min(x)*0.9, np.max(x)*1.1])\n",
        "    plt.ylim([-1, 1])\n",
        "    plt.xlabel('Feature Representation Dimension 0')\n",
        "    plt.ylabel('Feature Representation Dimension 1')\n",
        "    plt.title('Feature Representation')\n",
        "\n",
        "    for i,row in enumerate(H2):\n",
        "        str = \"{}\".format(i)\n",
        "        plt.annotate(str, (row[0],row[1]),fontsize=18, fontweight='bold')\n",
        "\n",
        "    plt.show()\n",
        "\n",
        "\n",
        "plot_features(H2)"
      ],
      "execution_count": null,
      "outputs": [
        {
          "output_type": "display_data",
          "data": {
            "image/png": "[encoded data removed]",
            "text/plain": [
              "<Figure size 432x288 with 1 Axes>"
            ]
          },
          "metadata": {
            "tags": [],
            "needs_background": "light"
          }
        }
      ]
    }
  ]
}