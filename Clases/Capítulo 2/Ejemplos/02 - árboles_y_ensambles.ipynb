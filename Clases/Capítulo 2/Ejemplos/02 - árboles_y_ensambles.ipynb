{
  "nbformat": 4,
  "nbformat_minor": 0,
  "metadata": {
    "anaconda-cloud": {},
    "kernelspec": {
      "display_name": "Python 3",
      "language": "python",
      "name": "python3"
    },
    "language_info": {
      "codemirror_mode": {
        "name": "ipython",
        "version": 3
      },
      "file_extension": ".py",
      "mimetype": "text/x-python",
      "name": "python",
      "nbconvert_exporter": "python",
      "pygments_lexer": "ipython3",
      "version": "3.5.1"
    },
    "colab": {
      "name": "04 - trees_and_ensembles.ipynb",
      "provenance": [],
      "collapsed_sections": []
    }
  },
  "cells": [
    {
      "cell_type": "code",
      "metadata": {
        "id": "WdBaknV4qoRL",
        "colab_type": "code",
        "colab": {}
      },
      "source": [
        "%matplotlib inline\n",
        "import numpy as np\n",
        "import matplotlib.pyplot as plt\n",
        "from sklearn import metrics"
      ],
      "execution_count": null,
      "outputs": []
    },
    {
      "cell_type": "code",
      "metadata": {
        "id": "3hvFByxU_LTd",
        "colab_type": "code",
        "colab": {}
      },
      "source": [
        "plt.rcParams['figure.figsize'] = [15, 10]\n",
        "plt.rcParams.update({'font.size': 16})"
      ],
      "execution_count": null,
      "outputs": []
    },
    {
      "cell_type": "code",
      "metadata": {
        "id": "51-7zqOQqoRP",
        "colab_type": "code",
        "colab": {}
      },
      "source": [
        "from sklearn.datasets import make_blobs\n",
        "\n",
        "X, Y = make_blobs(n_samples=1000, centers=10, random_state=0, cluster_std=1.5)\n",
        "plt.scatter(X[:, 0], X[:, 1], c=Y, s=50, cmap='rainbow');"
      ],
      "execution_count": null,
      "outputs": []
    },
    {
      "cell_type": "code",
      "metadata": {
        "id": "ygjcGROxxiwB",
        "colab_type": "code",
        "colab": {}
      },
      "source": [
        "from sklearn.model_selection import train_test_split\n",
        "\n",
        "X_train, X_test, Y_train, Y_test = train_test_split(X, Y, test_size=0.3, random_state=0)\n",
        "plt.scatter(X_train[:, 0], X_train[:, 1], c=Y_train, s=50, cmap='rainbow');"
      ],
      "execution_count": null,
      "outputs": []
    },
    {
      "cell_type": "code",
      "metadata": {
        "id": "YSZu3p7byYAF",
        "colab_type": "code",
        "colab": {}
      },
      "source": [
        "plt.scatter(X_test[:, 0], X_test[:, 1], c=Y_test, s=50, cmap='rainbow');"
      ],
      "execution_count": null,
      "outputs": []
    },
    {
      "cell_type": "code",
      "metadata": {
        "id": "Ivs3DRMCqoRT",
        "colab_type": "code",
        "colab": {}
      },
      "source": [
        "def visualize_classifier(model, X, Y, ax=None, cmap='rainbow'):\n",
        "  \n",
        "  ax = ax or plt.gca()\n",
        "  ax.scatter(X[:, 0], X[:, 1], c=Y, s=30, cmap=cmap, clim=(Y.min(), Y.max()), zorder=3)\n",
        "  \n",
        "  ax.axis('tight')\n",
        "  ax.axis('off')\n",
        "  xlim = ax.get_xlim()\n",
        "  ylim = ax.get_ylim()\n",
        "  \n",
        "  \n",
        "  xx, yy = np.meshgrid(np.linspace(*xlim, num=200), np.linspace(*ylim, num=200))\n",
        "  Z = model.predict(np.c_[xx.ravel(), yy.ravel()]).reshape(xx.shape)\n",
        "\n",
        "  # Create a color plot with the results\n",
        "  n_classes = len(np.unique(Y))\n",
        "  contours = ax.contourf(xx, yy, Z, alpha=0.3, levels=np.arange(n_classes + 1) - 0.5, cmap=cmap, zorder=1)\n",
        "\n",
        "  ax.set(xlim=xlim, ylim=ylim)"
      ],
      "execution_count": null,
      "outputs": []
    },
    {
      "cell_type": "code",
      "metadata": {
        "id": "B9Y0ylxmqoRW",
        "colab_type": "code",
        "colab": {}
      },
      "source": [
        "from sklearn.tree import DecisionTreeClassifier\n",
        "tree = DecisionTreeClassifier()\n",
        "tree.fit(X_train, Y_train)\n",
        "predicted = tree.predict(X_test)\n",
        "print(f'Confusion matrix:\\n {metrics.confusion_matrix(Y_test, predicted)}')\n",
        "print(f'Accuracy: {metrics.accuracy_score(Y_test, predicted)}')\n",
        "print()\n",
        "visualize_classifier(tree, X_train, Y_train)"
      ],
      "execution_count": null,
      "outputs": []
    },
    {
      "cell_type": "code",
      "metadata": {
        "id": "UNqM1pZHqoRb",
        "colab_type": "code",
        "colab": {}
      },
      "source": [
        "from sklearn.ensemble import RandomForestClassifier\n",
        "\n",
        "forest = RandomForestClassifier(n_estimators=100, random_state=0)\n",
        "forest.fit(X_train, Y_train)\n",
        "predicted = forest.predict(X_test)\n",
        "print(f'Confusion matrix:\\n {metrics.confusion_matrix(Y_test, predicted)}')\n",
        "print(f'Accuracy: {metrics.accuracy_score(Y_test, predicted)}')\n",
        "print()\n",
        "visualize_classifier(forest, X_train, Y_train);"
      ],
      "execution_count": null,
      "outputs": []
    },
    {
      "cell_type": "code",
      "metadata": {
        "id": "lLS-reVSqoRe",
        "colab_type": "code",
        "colab": {}
      },
      "source": [
        "from sklearn.ensemble import GradientBoostingClassifier\n",
        "\n",
        "boost = GradientBoostingClassifier(n_estimators=100, random_state=1)\n",
        "boost.fit(X_train, Y_train)\n",
        "predicted = boost.predict(X_test)\n",
        "print(f'Confusion matrix:\\n {metrics.confusion_matrix(Y_test, predicted)}')\n",
        "print(f'Accuracy: {metrics.accuracy_score(Y_test, predicted)}')\n",
        "print()\n",
        "visualize_classifier(boost, X_train, Y_train)"
      ],
      "execution_count": null,
      "outputs": []
    },
    {
      "cell_type": "code",
      "metadata": {
        "id": "SwvN_MehqoRi",
        "colab_type": "code",
        "colab": {}
      },
      "source": [
        "from xgboost import XGBClassifier\n",
        "\n",
        "XGB = XGBClassifier(n_estimators=100, random_state=1)\n",
        "XGB.fit(X_train, Y_train)\n",
        "predicted = XGB.predict(X_test)\n",
        "print(f'Confusion matrix:\\n {metrics.confusion_matrix(Y_test, predicted)}')\n",
        "print(f'Accuracy: {metrics.accuracy_score(Y_test, predicted)}')\n",
        "print()\n",
        "visualize_classifier(XGB, X_train, Y_train)"
      ],
      "execution_count": null,
      "outputs": []
    }
  ]
}