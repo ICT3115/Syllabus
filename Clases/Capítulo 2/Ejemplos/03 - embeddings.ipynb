{
  "nbformat": 4,
  "nbformat_minor": 0,
  "metadata": {
    "colab": {
      "name": "house_prices.ipynb",
      "provenance": []
    },
    "kernelspec": {
      "name": "python3",
      "display_name": "Python 3"
    },
    "language_info": {
      "name": "python"
    },
    "accelerator": "GPU",
    "widgets": {
      "application/vnd.jupyter.widget-state+json": {
        "3bb82c3be2da4d4d8d4f6114a2ab5399": {
          "model_module": "@jupyter-widgets/controls",
          "model_name": "HBoxModel",
          "state": {
            "_view_name": "HBoxView",
            "_dom_classes": [],
            "_model_name": "HBoxModel",
            "_view_module": "@jupyter-widgets/controls",
            "_model_module_version": "1.5.0",
            "_view_count": null,
            "_view_module_version": "1.5.0",
            "box_style": "",
            "layout": "IPY_MODEL_18cd6d6015e843f5b7d9d490d7a5db2e",
            "_model_module": "@jupyter-widgets/controls",
            "children": [
              "IPY_MODEL_d03c17b7bb014adbbbc3517e4f0b1a47",
              "IPY_MODEL_d818583db96242518c35d3b9643f7f66"
            ]
          }
        },
        "18cd6d6015e843f5b7d9d490d7a5db2e": {
          "model_module": "@jupyter-widgets/base",
          "model_name": "LayoutModel",
          "state": {
            "_view_name": "LayoutView",
            "grid_template_rows": null,
            "right": null,
            "justify_content": null,
            "_view_module": "@jupyter-widgets/base",
            "overflow": null,
            "_model_module_version": "1.2.0",
            "_view_count": null,
            "flex_flow": null,
            "width": null,
            "min_width": null,
            "border": null,
            "align_items": null,
            "bottom": null,
            "_model_module": "@jupyter-widgets/base",
            "top": null,
            "grid_column": null,
            "overflow_y": null,
            "overflow_x": null,
            "grid_auto_flow": null,
            "grid_area": null,
            "grid_template_columns": null,
            "flex": null,
            "_model_name": "LayoutModel",
            "justify_items": null,
            "grid_row": null,
            "max_height": null,
            "align_content": null,
            "visibility": null,
            "align_self": null,
            "height": null,
            "min_height": null,
            "padding": null,
            "grid_auto_rows": null,
            "grid_gap": null,
            "max_width": null,
            "order": null,
            "_view_module_version": "1.2.0",
            "grid_template_areas": null,
            "object_position": null,
            "object_fit": null,
            "grid_auto_columns": null,
            "margin": null,
            "display": null,
            "left": null
          }
        },
        "d03c17b7bb014adbbbc3517e4f0b1a47": {
          "model_module": "@jupyter-widgets/controls",
          "model_name": "FloatProgressModel",
          "state": {
            "_view_name": "ProgressView",
            "style": "IPY_MODEL_00661fa8b820462c88730d0cb1a71004",
            "_dom_classes": [],
            "description": "Epoch 1999: 100%",
            "_model_name": "FloatProgressModel",
            "bar_style": "success",
            "max": 2000,
            "_view_module": "@jupyter-widgets/controls",
            "_model_module_version": "1.5.0",
            "value": 2000,
            "_view_count": null,
            "_view_module_version": "1.5.0",
            "orientation": "horizontal",
            "min": 0,
            "description_tooltip": null,
            "_model_module": "@jupyter-widgets/controls",
            "layout": "IPY_MODEL_3e516aa021854769936cf8bf78fb274c"
          }
        },
        "d818583db96242518c35d3b9643f7f66": {
          "model_module": "@jupyter-widgets/controls",
          "model_name": "HTMLModel",
          "state": {
            "_view_name": "HTMLView",
            "style": "IPY_MODEL_e2d0e0885b634873bb3acb2a23dca049",
            "_dom_classes": [],
            "description": "",
            "_model_name": "HTMLModel",
            "placeholder": "​",
            "_view_module": "@jupyter-widgets/controls",
            "_model_module_version": "1.5.0",
            "value": " 2000/2000 [04:58&lt;00:00,  6.70epoch/s, loss=0.0207]",
            "_view_count": null,
            "_view_module_version": "1.5.0",
            "description_tooltip": null,
            "_model_module": "@jupyter-widgets/controls",
            "layout": "IPY_MODEL_840d3f44e86a49adbc5255e1dc7386fa"
          }
        },
        "00661fa8b820462c88730d0cb1a71004": {
          "model_module": "@jupyter-widgets/controls",
          "model_name": "ProgressStyleModel",
          "state": {
            "_view_name": "StyleView",
            "_model_name": "ProgressStyleModel",
            "description_width": "initial",
            "_view_module": "@jupyter-widgets/base",
            "_model_module_version": "1.5.0",
            "_view_count": null,
            "_view_module_version": "1.2.0",
            "bar_color": null,
            "_model_module": "@jupyter-widgets/controls"
          }
        },
        "3e516aa021854769936cf8bf78fb274c": {
          "model_module": "@jupyter-widgets/base",
          "model_name": "LayoutModel",
          "state": {
            "_view_name": "LayoutView",
            "grid_template_rows": null,
            "right": null,
            "justify_content": null,
            "_view_module": "@jupyter-widgets/base",
            "overflow": null,
            "_model_module_version": "1.2.0",
            "_view_count": null,
            "flex_flow": null,
            "width": null,
            "min_width": null,
            "border": null,
            "align_items": null,
            "bottom": null,
            "_model_module": "@jupyter-widgets/base",
            "top": null,
            "grid_column": null,
            "overflow_y": null,
            "overflow_x": null,
            "grid_auto_flow": null,
            "grid_area": null,
            "grid_template_columns": null,
            "flex": null,
            "_model_name": "LayoutModel",
            "justify_items": null,
            "grid_row": null,
            "max_height": null,
            "align_content": null,
            "visibility": null,
            "align_self": null,
            "height": null,
            "min_height": null,
            "padding": null,
            "grid_auto_rows": null,
            "grid_gap": null,
            "max_width": null,
            "order": null,
            "_view_module_version": "1.2.0",
            "grid_template_areas": null,
            "object_position": null,
            "object_fit": null,
            "grid_auto_columns": null,
            "margin": null,
            "display": null,
            "left": null
          }
        },
        "e2d0e0885b634873bb3acb2a23dca049": {
          "model_module": "@jupyter-widgets/controls",
          "model_name": "DescriptionStyleModel",
          "state": {
            "_view_name": "StyleView",
            "_model_name": "DescriptionStyleModel",
            "description_width": "",
            "_view_module": "@jupyter-widgets/base",
            "_model_module_version": "1.5.0",
            "_view_count": null,
            "_view_module_version": "1.2.0",
            "_model_module": "@jupyter-widgets/controls"
          }
        },
        "840d3f44e86a49adbc5255e1dc7386fa": {
          "model_module": "@jupyter-widgets/base",
          "model_name": "LayoutModel",
          "state": {
            "_view_name": "LayoutView",
            "grid_template_rows": null,
            "right": null,
            "justify_content": null,
            "_view_module": "@jupyter-widgets/base",
            "overflow": null,
            "_model_module_version": "1.2.0",
            "_view_count": null,
            "flex_flow": null,
            "width": null,
            "min_width": null,
            "border": null,
            "align_items": null,
            "bottom": null,
            "_model_module": "@jupyter-widgets/base",
            "top": null,
            "grid_column": null,
            "overflow_y": null,
            "overflow_x": null,
            "grid_auto_flow": null,
            "grid_area": null,
            "grid_template_columns": null,
            "flex": null,
            "_model_name": "LayoutModel",
            "justify_items": null,
            "grid_row": null,
            "max_height": null,
            "align_content": null,
            "visibility": null,
            "align_self": null,
            "height": null,
            "min_height": null,
            "padding": null,
            "grid_auto_rows": null,
            "grid_gap": null,
            "max_width": null,
            "order": null,
            "_view_module_version": "1.2.0",
            "grid_template_areas": null,
            "object_position": null,
            "object_fit": null,
            "grid_auto_columns": null,
            "margin": null,
            "display": null,
            "left": null
          }
        }
      }
    }
  },
  "cells": [
    {
      "cell_type": "code",
      "metadata": {
        "id": "3HcFY77r3Q8k"
      },
      "source": [
        "import pandas as pd\n",
        "\n",
        "import numpy as np\n",
        "from sklearn.preprocessing import LabelEncoder\n",
        "from sklearn.model_selection import train_test_split\n",
        "\n",
        "import torch\n",
        "import torch.nn as nn\n",
        "import torch.nn.functional as F\n",
        "from torch.utils.data import Dataset, DataLoader\n",
        "\n",
        "import tqdm"
      ],
      "execution_count": null,
      "outputs": []
    },
    {
      "cell_type": "code",
      "metadata": {
        "colab": {
          "base_uri": "https://localhost:8080/",
          "height": 204
        },
        "id": "Z5F54iHO3iRz",
        "outputId": "5b4220cc-8c28-47d3-ad83-6658ffe29bc4"
      },
      "source": [
        "data = pd.read_csv(\"train.csv\", usecols=[\"SalePrice\", \"MSSubClass\", \"MSZoning\", \"LotFrontage\", \"LotArea\",\n",
        "                                         \"Street\", \"YearBuilt\", \"LotShape\", \"1stFlrSF\", \"2ndFlrSF\"]).dropna()\n",
        "data.head()"
      ],
      "execution_count": null,
      "outputs": []
    },
    {
      "cell_type": "code",
      "metadata": {
        "id": "cweKnT8z4BEt"
      },
      "source": [
        "cat_features = [\"MSSubClass\", \"MSZoning\", \"Street\", \"LotShape\", \"YearBuilt\"]\n",
        "for cat_col in cat_features:\n",
        "  data[cat_col] = LabelEncoder().fit_transform(data[cat_col])\n",
        "cat_dims = [int(data[col].nunique()) for col in cat_features]\n",
        "cat_input_emb_size = [(x, min(50, (x + 1) // 2)) for x in cat_dims]\n",
        "\n",
        "num_features = [\"LotFrontage\", \"LotArea\", \"1stFlrSF\", \"2ndFlrSF\"]\n",
        "output = [\"SalePrice\"]"
      ],
      "execution_count": null,
      "outputs": []
    },
    {
      "cell_type": "code",
      "metadata": {
        "id": "qokO42oEKilb"
      },
      "source": [
        "class TabularDataset(Dataset):\n",
        "    def __init__(self, X_num, X_cat, Y):\n",
        "        self.n = X_num.shape[0]\n",
        "        self.y = Y.astype(np.float32).values.reshape(-1, 1)\n",
        "\n",
        "        normalized_X_num = (X_num-X_num.mean())/X_num.std()\n",
        "        self.x_num = normalized_X_num.astype(np.float32).values\n",
        "\n",
        "        self.x_cat = X_cat.astype(np.int64).values\n",
        "\n",
        "    def __len__(self):\n",
        "        return self.n\n",
        "\n",
        "    def __getitem__(self, idx):\n",
        "        return [self.x_num[idx], self.x_cat[idx], self.y[idx]]"
      ],
      "execution_count": null,
      "outputs": []
    },
    {
      "cell_type": "code",
      "metadata": {
        "id": "Oehfozjry9nF"
      },
      "source": [
        "training, test = train_test_split(data, test_size=0.2)"
      ],
      "execution_count": null,
      "outputs": []
    },
    {
      "cell_type": "code",
      "metadata": {
        "id": "q5h_zMxv_KBV"
      },
      "source": [
        "dataset = TabularDataset(X_num=training[num_features], X_cat=training[cat_features], Y=np.log(training[output]))\n",
        "batchsize = 64\n",
        "dataloader = DataLoader(dataset, batchsize, shuffle=True, num_workers=1)"
      ],
      "execution_count": null,
      "outputs": []
    },
    {
      "cell_type": "code",
      "metadata": {
        "id": "DUK5SW3cV4EO"
      },
      "source": [
        "class TabularMLP(nn.Module):\n",
        "  def __init__(self, num_input_size, cat_input_emb_size, hidden_size):\n",
        "      super().__init__()\n",
        "\n",
        "      self.embeddings = nn.ModuleList([nn.Embedding(x, y) for x, y in cat_input_emb_size])\n",
        "      total_embedding_size = sum([y for x, y in cat_input_emb_size])\n",
        "\n",
        "      self.fc1 = torch.nn.Linear(num_input_size+total_embedding_size, hidden_size)\n",
        "      self.fc2 = torch.nn.Linear(hidden_size, hidden_size)\n",
        "\n",
        "      self.emb_dropout = torch.nn.Dropout(.1)\n",
        "      self.dropout1 = torch.nn.Dropout(.1)\n",
        "      self.dropout2 = torch.nn.Dropout(.1)\n",
        "      \n",
        "      self.output = torch.nn.Linear(hidden_size, 1)\n",
        "\n",
        "  def forward(self, x_num, x_cat):\n",
        "      x = [embedding(x_cat[:, i]) for i, embedding in enumerate(self.embeddings)]\n",
        "      x = torch.cat(x, 1)\n",
        "      x = self.emb_dropout(x)\n",
        "\n",
        "      x = torch.cat([x, x_num], 1)\n",
        "\n",
        "      x = F.relu(self.fc1(x))\n",
        "      x = self.dropout1(x)\n",
        "      x = F.relu(self.fc2(x))\n",
        "      x = self.dropout2(x)\n",
        "      y_ = self.output(x)\n",
        "      return y_"
      ],
      "execution_count": null,
      "outputs": []
    },
    {
      "cell_type": "code",
      "metadata": {
        "id": "jtdVMuci_J6M"
      },
      "source": [
        "device = torch.device('cuda' if torch.cuda.is_available() else 'cpu')\n",
        "model = TabularMLP(num_input_size=4, cat_input_emb_size=cat_input_emb_size, hidden_size=256).to(device)"
      ],
      "execution_count": null,
      "outputs": []
    },
    {
      "cell_type": "code",
      "metadata": {
        "colab": {
          "base_uri": "https://localhost:8080/",
          "height": 66,
          "referenced_widgets": [
            "3bb82c3be2da4d4d8d4f6114a2ab5399",
            "18cd6d6015e843f5b7d9d490d7a5db2e",
            "d03c17b7bb014adbbbc3517e4f0b1a47",
            "d818583db96242518c35d3b9643f7f66",
            "00661fa8b820462c88730d0cb1a71004",
            "3e516aa021854769936cf8bf78fb274c",
            "e2d0e0885b634873bb3acb2a23dca049",
            "840d3f44e86a49adbc5255e1dc7386fa"
          ]
        },
        "id": "UuGPPJIO_JqD",
        "outputId": "b972a73c-216e-4196-f0d1-4d7fc5523059"
      },
      "source": [
        "total_epochs = 2000\n",
        "criterion = nn.MSELoss()\n",
        "lr = 0.01\n",
        "optimizer = torch.optim.Adam(model.parameters(), lr=lr)\n",
        "t_epochs = tqdm.notebook.tqdm(range(total_epochs), unit=\"epoch\")\n",
        "for epoch in t_epochs:\n",
        "  t_epochs.set_description(f\"Epoch {epoch}\")\n",
        "\n",
        "  total_loss = 0\n",
        "  for X_num, X_cat, Y in dataloader:       \n",
        "    X_num = X_num.to(device)\n",
        "    X_cat = X_cat.to(device)\n",
        "    Y = Y.to(device)\n",
        "\n",
        "    # Forward Pass\n",
        "    Y_ = model(X_num, X_cat)\n",
        "    loss = criterion(Y_, Y)\n",
        "\n",
        "    total_loss += loss.item()*X_num.size(0)\n",
        "  \n",
        "    optimizer.zero_grad()\n",
        "    loss.backward()\n",
        "    optimizer.step()\n",
        "    avg_loss = total_loss/len(training)\n",
        "  t_epochs.set_postfix(loss=avg_loss)"
      ],
      "execution_count": null,
      "outputs": []
    },
    {
      "cell_type": "code",
      "metadata": {
        "colab": {
          "base_uri": "https://localhost:8080/"
        },
        "id": "qXbG4fYCvYQk",
        "outputId": "0edc2491-bf66-44be-dd2e-b608d301e5d0"
      },
      "source": [
        "model.eval()\n",
        "test_dataset = TabularDataset(X_num=test[num_features], X_cat=test[cat_features], Y=np.log(test[output]))\n",
        "test_dataloader = DataLoader(test_dataset, batchsize, shuffle=True, num_workers=1)\n",
        "\n",
        "total_loss = 0\n",
        "for X_num, X_cat, Y in test_dataloader: \n",
        "  X_num = X_num.to(device)\n",
        "  X_cat = X_cat.to(device)\n",
        "  Y = Y.to(device)\n",
        "  Y_ = model(X_num, X_cat)\n",
        "  loss = criterion(Y_, Y)\n",
        "\n",
        "  total_loss += loss.item()*X_num.size(0)\n",
        "avg_loss = total_loss/len(test)\n",
        "print(f\"Avg. Loss = {avg_loss:e}\")"
      ],
      "execution_count": null,
      "outputs": []
    }
  ]
}